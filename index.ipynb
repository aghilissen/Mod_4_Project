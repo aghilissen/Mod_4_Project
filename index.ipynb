{
 "cells": [
  {
   "cell_type": "code",
   "execution_count": 1,
   "metadata": {},
   "outputs": [],
   "source": [
    "import matplotlib\n",
    "import numpy as np\n",
    "import pandas as pd\n",
    "import seaborn as sns\n",
    "import plotly.express as px\n",
    "import Petna as pt\n",
    "matplotlib.rcParams['figure.figsize'] = (50,50)\n",
    "pd.set_option('display.max_columns', None)\n",
    "pd.set_option('display.width', 2000)\n",
    "pd.set_option('display.max_rows', 2000)\n",
    "%reload_ext autoreload\n",
    "%autoreload 2"
   ]
  },
  {
   "cell_type": "code",
   "execution_count": 2,
   "metadata": {
    "scrolled": true
   },
   "outputs": [
    {
     "data": {
      "text/plain": [
       "['Introduction',\n",
       " 'Outcomes & Factors Rankings',\n",
       " 'Outcomes & Factors SubRankings',\n",
       " 'Ranked Measure Data',\n",
       " 'Ranked Measure Sources & Years',\n",
       " 'Additional Measure Data',\n",
       " 'Addtl Measure Sources & Years']"
      ]
     },
     "execution_count": 2,
     "metadata": {},
     "output_type": "execute_result"
    }
   ],
   "source": [
    "xls = pd.ExcelFile('2019 County Health Rankings Data - v2.xls')\n",
    "sheets = xls.sheet_names\n",
    "sheets"
   ]
  },
  {
   "cell_type": "code",
   "execution_count": 3,
   "metadata": {},
   "outputs": [],
   "source": [
    "# pt.missingvalues(sheets[5],xls)"
   ]
  },
  {
   "cell_type": "code",
   "execution_count": 4,
   "metadata": {},
   "outputs": [],
   "source": [
    "rmd = xls.parse(sheets[3],header=1)\n",
    "amd = xls.parse(sheets[5],header=1)\n",
    "amd = amd.drop(columns=['State','County'])"
   ]
  },
  {
   "cell_type": "markdown",
   "metadata": {},
   "source": [
    "## Creating our master dataFrame"
   ]
  },
  {
   "cell_type": "code",
   "execution_count": 5,
   "metadata": {
    "scrolled": false
   },
   "outputs": [],
   "source": [
    "df = rmd.merge(amd, on='FIPS')\n",
    "# Focusing on percentage and rates as opposed to absolute values\n",
    "for kw in ['95%','Quartile','#','Unreliable']:\n",
    "    df = df.drop(columns=[x for x in df.columns if kw in x])\n",
    "df = df.set_index('FIPS')"
   ]
  },
  {
   "cell_type": "code",
   "execution_count": 6,
   "metadata": {},
   "outputs": [],
   "source": [
    "# Columns title formatting\n",
    "subs = [(' ', '_'),('.',''),(\"'\",\"\"),('™', ''), ('®',''),\n",
    "        ('+','plus'), ('½','half'), ('-','_'), ('<','under'), ('%','percent'), ('/', '_or_') \n",
    "       ]\n",
    "def col_formatting(col):\n",
    "    for old, new in subs:\n",
    "        col = col.replace(old,new)\n",
    "    return col\n",
    "\n",
    "df.columns = [col_formatting(col) for col in df.columns]"
   ]
  },
  {
   "cell_type": "markdown",
   "metadata": {},
   "source": [
    "## Replacing NaN values by state average"
   ]
  },
  {
   "cell_type": "markdown",
   "metadata": {},
   "source": [
    "MV_Mortality_Rate, YPLL and %Alcohol Impaired car crashed NaN values have been replaced by the state mean. Average_Daily_PM25 Nan are replaced by 0 as only the whole of Alska and Hawai have Nan."
   ]
  },
  {
   "cell_type": "code",
   "execution_count": 7,
   "metadata": {},
   "outputs": [],
   "source": [
    "df['MV_Mortality_Rate'] = df['MV_Mortality_Rate'].fillna(df.groupby(by='State')['MV_Mortality_Rate'].transform('mean'))\n",
    "df['Years_of_Potential_Life_Lost_Rate'] = df['Years_of_Potential_Life_Lost_Rate'].fillna(df.groupby(by='State')['Years_of_Potential_Life_Lost_Rate'].transform('mean'))\n",
    "df['percent_Alcohol_Impaired'] = df['percent_Alcohol_Impaired'].fillna(df.groupby(by='State')['percent_Alcohol_Impaired'].transform('mean'))\n",
    "df['Average_Daily_PM25'] = df['Average_Daily_PM25'].fillna(0)"
   ]
  },
  {
   "cell_type": "code",
   "execution_count": 8,
   "metadata": {},
   "outputs": [],
   "source": [
    "# df.to_csv('df.csv')"
   ]
  }
 ],
 "metadata": {
  "kernelspec": {
   "display_name": "Python 3",
   "language": "python",
   "name": "python3"
  },
  "language_info": {
   "codemirror_mode": {
    "name": "ipython",
    "version": 3
   },
   "file_extension": ".py",
   "mimetype": "text/x-python",
   "name": "python",
   "nbconvert_exporter": "python",
   "pygments_lexer": "ipython3",
   "version": "3.8.1"
  }
 },
 "nbformat": 4,
 "nbformat_minor": 4
}
